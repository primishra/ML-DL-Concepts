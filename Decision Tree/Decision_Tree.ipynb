{
  "nbformat": 4,
  "nbformat_minor": 0,
  "metadata": {
    "colab": {
      "name": "Decision_Tree.ipynb",
      "provenance": [],
      "collapsed_sections": []
    },
    "kernelspec": {
      "name": "python3",
      "display_name": "Python 3"
    },
    "language_info": {
      "name": "python"
    },
    "accelerator": "GPU"
  },
  "cells": [
    {
      "cell_type": "markdown",
      "metadata": {
        "id": "bDEM87TjpLwT"
      },
      "source": [
        "Iris dataset is used\n"
      ]
    },
    {
      "cell_type": "code",
      "metadata": {
        "id": "hAUMP4wwpS87"
      },
      "source": [
        "import pandas as pd\n",
        "import numpy as np\n",
        "from sklearn.datasets import load_iris\n",
        "from sklearn.tree import DecisionTreeClassifier\n",
        "from sklearn.model_selection import train_test_split"
      ],
      "execution_count": 1,
      "outputs": []
    },
    {
      "cell_type": "code",
      "metadata": {
        "id": "V9JkV-60pxYn"
      },
      "source": [
        "iris = load_iris()"
      ],
      "execution_count": 4,
      "outputs": []
    },
    {
      "cell_type": "code",
      "metadata": {
        "colab": {
          "base_uri": "https://localhost:8080/"
        },
        "id": "AiF0N5LWp8DN",
        "outputId": "e1b0bd73-29c4-410d-f854-da997be2ff08"
      },
      "source": [
        "print(\"Classes: \", iris.target_names)"
      ],
      "execution_count": 5,
      "outputs": [
        {
          "output_type": "stream",
          "text": [
            "Classes:  ['setosa' 'versicolor' 'virginica']\n"
          ],
          "name": "stdout"
        }
      ]
    },
    {
      "cell_type": "code",
      "metadata": {
        "id": "a5ysR1jBqGF4"
      },
      "source": [
        "## data attributes\n",
        "\n",
        "x = iris.data\n",
        "\n",
        "## target labels\n",
        "\n",
        "y = iris.target"
      ],
      "execution_count": 7,
      "outputs": []
    },
    {
      "cell_type": "code",
      "metadata": {
        "colab": {
          "base_uri": "https://localhost:8080/"
        },
        "id": "WDhrLFwgqg_c",
        "outputId": "c9fadbfa-e0f4-4e43-c8b5-a1b94094bc4b"
      },
      "source": [
        "type(x), type(y), x.shape, y.shape"
      ],
      "execution_count": 10,
      "outputs": [
        {
          "output_type": "execute_result",
          "data": {
            "text/plain": [
              "(numpy.ndarray, numpy.ndarray, (150, 4), (150,))"
            ]
          },
          "metadata": {
            "tags": []
          },
          "execution_count": 10
        }
      ]
    },
    {
      "cell_type": "code",
      "metadata": {
        "colab": {
          "base_uri": "https://localhost:8080/"
        },
        "id": "mvX-OPqXqiW-",
        "outputId": "9aa1017f-8303-405c-ad04-028e2a5290d8"
      },
      "source": [
        "print(x[:2]) \n",
        "\n",
        "print(\"-------------------\")\n",
        "print(y[:2])"
      ],
      "execution_count": 13,
      "outputs": [
        {
          "output_type": "stream",
          "text": [
            "[[5.1 3.5 1.4 0.2]\n",
            " [4.9 3.  1.4 0.2]]\n",
            "-------------------\n",
            "[0 0]\n"
          ],
          "name": "stdout"
        }
      ]
    },
    {
      "cell_type": "code",
      "metadata": {
        "id": "ttwwV_uoq9Ny"
      },
      "source": [
        "x_train, x_test, y_train, y_test = train_test_split(x, y, random_state = 20, test_size = 0.25)"
      ],
      "execution_count": 14,
      "outputs": []
    },
    {
      "cell_type": "code",
      "metadata": {
        "colab": {
          "base_uri": "https://localhost:8080/"
        },
        "id": "6UQkRTJWrno2",
        "outputId": "224b9dae-4673-42f2-fd16-e88059070417"
      },
      "source": [
        "x_train.shape, x_test.shape, y_train.shape, y_test.shape"
      ],
      "execution_count": 15,
      "outputs": [
        {
          "output_type": "execute_result",
          "data": {
            "text/plain": [
              "((112, 4), (38, 4), (112,), (38,))"
            ]
          },
          "metadata": {
            "tags": []
          },
          "execution_count": 15
        }
      ]
    },
    {
      "cell_type": "code",
      "metadata": {
        "colab": {
          "base_uri": "https://localhost:8080/"
        },
        "id": "vzxeP0Knruzy",
        "outputId": "91fcdafe-8bdf-4b33-8f4b-514af0c4401b"
      },
      "source": [
        "x_test[:10], y_test[:10]"
      ],
      "execution_count": 20,
      "outputs": [
        {
          "output_type": "execute_result",
          "data": {
            "text/plain": [
              "(array([[4.6, 3.2, 1.4, 0.2],\n",
              "        [6.1, 2.8, 4.7, 1.2],\n",
              "        [6.4, 2.9, 4.3, 1.3],\n",
              "        [7.2, 3. , 5.8, 1.6],\n",
              "        [5.8, 2.7, 4.1, 1. ],\n",
              "        [5.5, 2.5, 4. , 1.3],\n",
              "        [6.8, 3.2, 5.9, 2.3],\n",
              "        [5.1, 3.7, 1.5, 0.4],\n",
              "        [6.7, 2.5, 5.8, 1.8],\n",
              "        [4.8, 3. , 1.4, 0.1]]), array([0, 1, 1, 2, 1, 1, 2, 0, 2, 0]))"
            ]
          },
          "metadata": {
            "tags": []
          },
          "execution_count": 20
        }
      ]
    },
    {
      "cell_type": "code",
      "metadata": {
        "colab": {
          "base_uri": "https://localhost:8080/"
        },
        "id": "Qgk5HHeVryVa",
        "outputId": "c9fbe826-208e-4f7e-bc3d-4f5a26b33b03"
      },
      "source": [
        "x_train[:10], y_train[:10]"
      ],
      "execution_count": 21,
      "outputs": [
        {
          "output_type": "execute_result",
          "data": {
            "text/plain": [
              "(array([[6.4, 3.2, 4.5, 1.5],\n",
              "        [7.4, 2.8, 6.1, 1.9],\n",
              "        [5.7, 2.8, 4.5, 1.3],\n",
              "        [6.1, 2.6, 5.6, 1.4],\n",
              "        [4.9, 3.6, 1.4, 0.1],\n",
              "        [6.7, 3.1, 4.4, 1.4],\n",
              "        [6.3, 3.3, 4.7, 1.6],\n",
              "        [4.7, 3.2, 1.3, 0.2],\n",
              "        [5.4, 3.9, 1.7, 0.4],\n",
              "        [5. , 3.3, 1.4, 0.2]]), array([1, 2, 1, 2, 0, 1, 1, 0, 0, 0]))"
            ]
          },
          "metadata": {
            "tags": []
          },
          "execution_count": 21
        }
      ]
    },
    {
      "cell_type": "code",
      "metadata": {
        "id": "FFUp-kW5r8Lu"
      },
      "source": [
        "## decision tree classifier\n",
        "classfier = DecisionTreeClassifier(criterion= \"entropy\")"
      ],
      "execution_count": 22,
      "outputs": []
    },
    {
      "cell_type": "code",
      "metadata": {
        "colab": {
          "base_uri": "https://localhost:8080/"
        },
        "id": "X3uSwZ4tsrP3",
        "outputId": "3118c813-0c26-4038-9b45-aabde280cd69"
      },
      "source": [
        "## training\n",
        "classfier.fit(x_train, y_train)"
      ],
      "execution_count": 23,
      "outputs": [
        {
          "output_type": "execute_result",
          "data": {
            "text/plain": [
              "DecisionTreeClassifier(ccp_alpha=0.0, class_weight=None, criterion='entropy',\n",
              "                       max_depth=None, max_features=None, max_leaf_nodes=None,\n",
              "                       min_impurity_decrease=0.0, min_impurity_split=None,\n",
              "                       min_samples_leaf=1, min_samples_split=2,\n",
              "                       min_weight_fraction_leaf=0.0, presort='deprecated',\n",
              "                       random_state=None, splitter='best')"
            ]
          },
          "metadata": {
            "tags": []
          },
          "execution_count": 23
        }
      ]
    },
    {
      "cell_type": "code",
      "metadata": {
        "id": "kfa0hwF3s2QM"
      },
      "source": [
        "## predicting the labels\n",
        "\n",
        "y_predict = classfier.predict(x_test)"
      ],
      "execution_count": 24,
      "outputs": []
    },
    {
      "cell_type": "code",
      "metadata": {
        "colab": {
          "base_uri": "https://localhost:8080/"
        },
        "id": "wlPnRBDrtO5G",
        "outputId": "e56f8984-294a-48d8-ac46-3d931751ccc2"
      },
      "source": [
        "## evaluation metric (accuracy)\n",
        "\n",
        "from sklearn.metrics import accuracy_score\n",
        "\n",
        "print(\"for train data, accuracy: \", accuracy_score(y_true = y_train, y_pred = classfier.predict(x_train)) )\n",
        "\n",
        "print(\"for test data, accuracy: \", accuracy_score(y_true = y_test, y_pred = y_predict) )"
      ],
      "execution_count": 28,
      "outputs": [
        {
          "output_type": "stream",
          "text": [
            "for train data, accuracy:  1.0\n",
            "for test data, accuracy:  0.9210526315789473\n"
          ],
          "name": "stdout"
        }
      ]
    },
    {
      "cell_type": "markdown",
      "metadata": {
        "id": "UN0T5ZJVvEdv"
      },
      "source": [
        "## Experimenting\n",
        "\n",
        "By changing the parameters.\n",
        "Documentation - [https://scikit-learn.org/stable/modules/generated/sklearn.tree.DecisionTreeClassifier.html](https://scikit-learn.org/stable/modules/generated/sklearn.tree.DecisionTreeClassifier.html)\n"
      ]
    },
    {
      "cell_type": "code",
      "metadata": {
        "colab": {
          "base_uri": "https://localhost:8080/"
        },
        "id": "xlbXnTZ-uFiy",
        "outputId": "e6d17841-9477-4577-f884-a7a4e83d1023"
      },
      "source": [
        "########        Changing min_sample_split\n",
        "\n",
        "## decision tree classifier\n",
        "classfier = DecisionTreeClassifier(criterion= \"entropy\", min_samples_split=50)\n",
        "\n",
        "## training\n",
        "classfier.fit(x_train, y_train)\n",
        "\n",
        "## predicting the labels\n",
        "y_predict = classfier.predict(x_test)\n",
        "\n",
        "## evaluation metric (accuracy)\n",
        "print(\"for train data, accuracy: \", accuracy_score(y_true = y_train, y_pred = classfier.predict(x_train)) )\n",
        "\n",
        "print(\"for test data, accuracy: \", accuracy_score(y_true = y_test, y_pred = y_predict) )"
      ],
      "execution_count": 30,
      "outputs": [
        {
          "output_type": "stream",
          "text": [
            "for train data, accuracy:  0.9821428571428571\n",
            "for test data, accuracy:  0.8947368421052632\n"
          ],
          "name": "stdout"
        }
      ]
    },
    {
      "cell_type": "code",
      "metadata": {
        "colab": {
          "base_uri": "https://localhost:8080/"
        },
        "id": "rk60PQqvu09L",
        "outputId": "9a4c86ca-dfec-4c29-f237-882dee593f5b"
      },
      "source": [
        "########        Changing min_sample_split\n",
        "\n",
        "## decision tree classifier\n",
        "classfier = DecisionTreeClassifier(criterion= \"entropy\", min_samples_split=10)\n",
        "\n",
        "## training\n",
        "classfier.fit(x_train, y_train)\n",
        "\n",
        "## predicting the labels\n",
        "y_predict = classfier.predict(x_test)\n",
        "\n",
        "## evaluation metric (accuracy)\n",
        "print(\"for train data, accuracy: \", accuracy_score(y_true = y_train, y_pred = classfier.predict(x_train)) )\n",
        "\n",
        "print(\"for test data, accuracy: \", accuracy_score(y_true = y_test, y_pred = y_predict) )"
      ],
      "execution_count": 32,
      "outputs": [
        {
          "output_type": "stream",
          "text": [
            "for train data, accuracy:  0.9910714285714286\n",
            "for test data, accuracy:  0.9210526315789473\n"
          ],
          "name": "stdout"
        }
      ]
    },
    {
      "cell_type": "code",
      "metadata": {
        "id": "kYwerT7Lu5q2"
      },
      "source": [
        ""
      ],
      "execution_count": null,
      "outputs": []
    }
  ]
}