{
  "nbformat": 4,
  "nbformat_minor": 0,
  "metadata": {
    "colab": {
      "name": "Neural Networks Implementation.ipynb",
      "provenance": [],
      "collapsed_sections": []
    },
    "kernelspec": {
      "name": "python3",
      "display_name": "Python 3"
    }
  },
  "cells": [
    {
      "cell_type": "markdown",
      "metadata": {
        "id": "3mmpZT-gXTNe"
      },
      "source": [
        "Just to get an idea, I was  trying to code the concept described in the article - https://pub.towardsai.net/building-neural-networks-from-scratch-with-python-code-and-math-in-detail-i-536fae5d7bbf\r\n",
        "\r\n",
        "I used the code given in the article as my reference."
      ]
    },
    {
      "cell_type": "code",
      "metadata": {
        "id": "GkTDuopRExY9"
      },
      "source": [
        "## libraries\r\n",
        "import numpy as np"
      ],
      "execution_count": 2,
      "outputs": []
    },
    {
      "cell_type": "code",
      "metadata": {
        "colab": {
          "base_uri": "https://localhost:8080/"
        },
        "id": "eZ2-f5kmIslw",
        "outputId": "4ad8ffc2-cf06-415f-b62d-7e75ea4ff3f7"
      },
      "source": [
        "## inputs\r\n",
        "inputs = np.array([[0,0], [1,1], [1,0], [0,1], [1,2], [2,1], [1,3], [3,1]])\r\n",
        "inputs"
      ],
      "execution_count": 7,
      "outputs": [
        {
          "output_type": "execute_result",
          "data": {
            "text/plain": [
              "array([[0, 0],\n",
              "       [1, 1],\n",
              "       [1, 0],\n",
              "       [0, 1],\n",
              "       [1, 2],\n",
              "       [2, 1],\n",
              "       [1, 3],\n",
              "       [3, 1]])"
            ]
          },
          "metadata": {
            "tags": []
          },
          "execution_count": 7
        }
      ]
    },
    {
      "cell_type": "code",
      "metadata": {
        "colab": {
          "base_uri": "https://localhost:8080/"
        },
        "id": "WEymhcJWIyGS",
        "outputId": "2bf2e451-9f64-425c-a00c-defd102f3165"
      },
      "source": [
        "inputs.shape"
      ],
      "execution_count": 6,
      "outputs": [
        {
          "output_type": "execute_result",
          "data": {
            "text/plain": [
              "(8, 2)"
            ]
          },
          "metadata": {
            "tags": []
          },
          "execution_count": 6
        }
      ]
    },
    {
      "cell_type": "code",
      "metadata": {
        "colab": {
          "base_uri": "https://localhost:8080/"
        },
        "id": "ccHkoNl3I22W",
        "outputId": "382d4253-f242-45c1-936f-f3ff899d9868"
      },
      "source": [
        "## target outputs\r\n",
        "\r\n",
        "target_op = np.array([0,1,1,2,0,1,2,1])\r\n",
        "\r\n",
        "## reshaping the target outputs\r\n",
        "target_op = target_op.reshape(8, 1)\r\n",
        "\r\n",
        "target_op"
      ],
      "execution_count": 9,
      "outputs": [
        {
          "output_type": "execute_result",
          "data": {
            "text/plain": [
              "array([[0],\n",
              "       [1],\n",
              "       [1],\n",
              "       [2],\n",
              "       [0],\n",
              "       [1],\n",
              "       [2],\n",
              "       [1]])"
            ]
          },
          "metadata": {
            "tags": []
          },
          "execution_count": 9
        }
      ]
    },
    {
      "cell_type": "code",
      "metadata": {
        "colab": {
          "base_uri": "https://localhost:8080/"
        },
        "id": "Cc4tMrZbJfFC",
        "outputId": "8baab832-1c68-46ea-83c0-6e831bfdcaf9"
      },
      "source": [
        "weights = np.array([[0.6], [0.1]])\r\n",
        "\r\n",
        "weights"
      ],
      "execution_count": 10,
      "outputs": [
        {
          "output_type": "execute_result",
          "data": {
            "text/plain": [
              "array([[0.6],\n",
              "       [0.1]])"
            ]
          },
          "metadata": {
            "tags": []
          },
          "execution_count": 10
        }
      ]
    },
    {
      "cell_type": "code",
      "metadata": {
        "id": "C8O5jZvnJ7Qh"
      },
      "source": [
        "bias = 0.45\r\n",
        "\r\n",
        "## learning rate\r\n",
        "lr = 0.01"
      ],
      "execution_count": 11,
      "outputs": []
    },
    {
      "cell_type": "code",
      "metadata": {
        "id": "srUr743cKNch"
      },
      "source": [
        "## activation function\r\n",
        "\r\n",
        "def sigmoid(x):\r\n",
        "  return 1/(1+np.exp(-x))"
      ],
      "execution_count": 12,
      "outputs": []
    },
    {
      "cell_type": "code",
      "metadata": {
        "id": "I5TjbfhEKdds"
      },
      "source": [
        "## derivative of the activation function\r\n",
        "## with respect to x\r\n",
        "def del_sigmoid(x):\r\n",
        "  return sigmoid(x)*(1-sigmoid(x))"
      ],
      "execution_count": 13,
      "outputs": []
    },
    {
      "cell_type": "code",
      "metadata": {
        "id": "ZaZ5P00LK195"
      },
      "source": [
        "## running the code \"n\" times\r\n",
        "\r\n",
        "n = 10000\r\n",
        "\r\n",
        "for epoch in range(n):\r\n",
        "\r\n",
        "  ## feedforward inputs\r\n",
        "  in_o = np.dot(inputs, weights) + bias\r\n",
        "\r\n",
        "  ## feedforward output\r\n",
        "  out_o = sigmoid(in_o)\r\n",
        "\r\n",
        "  ## backpropagation process starts here\r\n",
        "  ## finding error (simple error function for simplicity in the calculation)\r\n",
        "  error = out_o - target_op\r\n",
        "\r\n",
        "  error_sum = error.sum()\r\n",
        "\r\n",
        "  ## 1st derivative\r\n",
        "  delerror_del_op = error\r\n",
        "\r\n",
        "  ## 2nd derivative\r\n",
        "  delop_delip = sigmoid(out_o)\r\n",
        "  ## multiplying both 1st and 2nd derivative\r\n",
        "  deriv = delerror_del_op*delop_delip\r\n",
        "\r\n",
        "  input_new = inputs.T\r\n",
        "  deriv_final = np.dot(input_new, deriv)\r\n",
        "\r\n",
        "  ## updating weights\r\n",
        "  weights -= lr* deriv_final\r\n",
        "  \r\n",
        "  ## updating bias\r\n",
        "  for i in deriv:\r\n",
        "    bias = bias - lr*i\r\n",
        "\r\n",
        "\r\n"
      ],
      "execution_count": 17,
      "outputs": []
    },
    {
      "cell_type": "code",
      "metadata": {
        "colab": {
          "base_uri": "https://localhost:8080/"
        },
        "id": "kkXqyqgxR6xc",
        "outputId": "0ee0412f-04ce-4037-d859-8c8bd3ed8635"
      },
      "source": [
        "print(weights)\r\n",
        "print(bias)"
      ],
      "execution_count": 18,
      "outputs": [
        {
          "output_type": "stream",
          "text": [
            "[[  1.61489229]\n",
            " [146.65700226]]\n",
            "[4.68161327]\n"
          ],
          "name": "stdout"
        }
      ]
    },
    {
      "cell_type": "code",
      "metadata": {
        "colab": {
          "base_uri": "https://localhost:8080/"
        },
        "id": "uSTSW0HjSmBX",
        "outputId": "5915bcf9-9012-4d2b-c81f-ffb5883021a1"
      },
      "source": [
        "single_pt = np.array([1,0])\r\n",
        "\r\n",
        "result1 = np.dot(single_pt, weights) + bias\r\n",
        "\r\n",
        "result2 = sigmoid(result1)\r\n",
        "\r\n",
        "print(result2)"
      ],
      "execution_count": 20,
      "outputs": [
        {
          "output_type": "stream",
          "text": [
            "[0.99816066]\n"
          ],
          "name": "stdout"
        }
      ]
    },
    {
      "cell_type": "code",
      "metadata": {
        "id": "eMq5WlWdS1yP"
      },
      "source": [
        ""
      ],
      "execution_count": null,
      "outputs": []
    }
  ]
}